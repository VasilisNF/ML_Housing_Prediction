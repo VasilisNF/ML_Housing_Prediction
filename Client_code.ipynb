{
 "cells": [
  {
   "cell_type": "code",
   "execution_count": null,
   "id": "ea142864",
   "metadata": {},
   "outputs": [],
   "source": [
    "# Client code\n",
    "import socket\n",
    "import sys\n",
    "HOST = ''\n",
    "PORT = 8888\n",
    "\n",
    "# Datagram (udp) socket\n",
    "try:\n",
    "s=socket.socket(socket.AF_INET, socket.SOCK_DGRAM)\n",
    "print(\"Hello, I am the Oracle. How can I help you today?\")\n",
    "except socket.error as msg:\n",
    "print(\"Failed to create socket\")\n",
    "sys.exit()\n",
    "host = 'localhost'\n",
    "port =8888\n",
    "while (1):\n",
    "msg=input(\"Enter message to send\").encode()\n",
    "try:\n",
    "# Set the whole string\n",
    "s.sendto(msg, (host, port))\n",
    "\n",
    "# receive data from client (data, addr)\n",
    "d= s.recvfrom(2048)\n",
    "reply = d[0].decode()\n",
    "addr = d[1]\n",
    "print(\"Server reply : \" + reply)\n",
    "except socket.error as msg:\n",
    "print(\"Error Code: \" + str(msg[0]) + \" Message \" + msg[1])\n",
    "sys.exit()"
   ]
  }
 ],
 "metadata": {
  "kernelspec": {
   "display_name": "Python 3 (ipykernel)",
   "language": "python",
   "name": "python3"
  },
  "language_info": {
   "codemirror_mode": {
    "name": "ipython",
    "version": 3
   },
   "file_extension": ".py",
   "mimetype": "text/x-python",
   "name": "python",
   "nbconvert_exporter": "python",
   "pygments_lexer": "ipython3",
   "version": "3.9.13"
  }
 },
 "nbformat": 4,
 "nbformat_minor": 5
}
