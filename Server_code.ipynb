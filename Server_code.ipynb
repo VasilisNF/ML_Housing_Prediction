{
 "cells": [
  {
   "cell_type": "code",
   "execution_count": null,
   "id": "24c5a0c9",
   "metadata": {},
   "outputs": [],
   "source": [
    "import socket\n",
    "import sys\n",
    "\n",
    "# Server code\n",
    "HOST = ''\n",
    "PORT = 8888\n",
    "\n",
    "# Datagram (udp) socket\n",
    "try:\n",
    "s=socket.socket(socket.AF_INET, socket.SOCK_DGRAM)\n",
    "print(\"Socket created\")\n",
    "except socket.error as msg:\n",
    "print(\"Failed to create socket. Error Code :\" + str(msg[0]) + \" Message \" + msg[1])\n",
    "sys.exit()\n",
    "\n",
    "# Bind socket to local host and port\n",
    "try:\n",
    "s.bind((HOST,PORT))\n",
    "except socket.error as msg:\n",
    "print('Bind failed. Error Code :' + str(msg[0]) + \"Message\" + msg[1])\n",
    "sys.exit()\n",
    "print(\"Socket bind complete\")\n",
    "\n",
    "# now keep talking with the client\n",
    "while 1:\n",
    "# receive data from client (data, addr)\n",
    "d = s.recvfrom(2048)\n",
    "data = d[0].decode()\n",
    "addr = d[1]\n",
    "if not data:\n",
    "break\n",
    "reply = \"This is the price of this house = 261020.12\"\n",
    "s.sendto(reply.encode(), addr)\n",
    "print(\"Message[\" + addr[0] + \":\" + str(addr[1]) + \"] - \" + data.strip())\n",
    "s.close()\n"
   ]
  }
 ],
 "metadata": {
  "kernelspec": {
   "display_name": "Python 3 (ipykernel)",
   "language": "python",
   "name": "python3"
  },
  "language_info": {
   "codemirror_mode": {
    "name": "ipython",
    "version": 3
   },
   "file_extension": ".py",
   "mimetype": "text/x-python",
   "name": "python",
   "nbconvert_exporter": "python",
   "pygments_lexer": "ipython3",
   "version": "3.9.13"
  }
 },
 "nbformat": 4,
 "nbformat_minor": 5
}
